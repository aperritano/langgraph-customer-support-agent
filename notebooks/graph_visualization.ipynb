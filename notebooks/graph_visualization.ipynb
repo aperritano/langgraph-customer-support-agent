{
  "cells": [
    {
      "cell_type": "markdown",
      "metadata": {},
      "source": [
        "# Customer Support Bot - Graph Visualization\n",
        "\n",
        "This notebook demonstrates how to visualize the LangGraph workflow using Mermaid diagrams.\n",
        "\n",
        "## Graph Structure\n",
        "\n",
        "The customer support bot uses a **ReAct pattern** (Reasoning + Acting):\n",
        "\n",
        "1. **Agent Node**: Receives customer message and decides whether to call tools or provide an answer\n",
        "2. **Tools Node**: Executes the selected tools (knowledge base search, order lookup, etc.)\n",
        "3. **Conditional Edges**: Control the flow between agent and tools\n",
        "4. **Loop**: Continues until agent provides a final answer\n",
        "\n",
        "## Visualization\n"
      ]
    },
    {
      "cell_type": "code",
      "execution_count": 1,
      "metadata": {},
      "outputs": [],
      "source": [
        "# Import required modules\n",
        "import sys\n",
        "from pathlib import Path\n",
        "\n",
        "# Add src to path\n",
        "sys.path.insert(0, str(Path.cwd() / \"src\"))\n",
        "\n",
        "from support_agent.agent import graph\n",
        "from support_agent.tools import tools\n"
      ]
    },
    {
      "cell_type": "markdown",
      "metadata": {},
      "source": [
        "## Graph Information\n"
      ]
    },
    {
      "cell_type": "code",
      "execution_count": 2,
      "metadata": {},
      "outputs": [
        {
          "name": "stdout",
          "output_type": "stream",
          "text": [
            "📊 Graph Information:\n",
            "==============================\n",
            "Nodes: ['__start__', 'agent', 'tools', '__end__']\n",
            "Edges: 4\n",
            "\n",
            "🔧 Available Tools:\n",
            "  • search_knowledge_base: Search the store's knowledge base for information about policies, products, and FAQ.\n",
            "\n",
            "    Use this tool to find answers about:\n",
            "    - Store policies (returns, shipping, warranties)\n",
            "    - Product information and features\n",
            "    - Payment methods and security\n",
            "    - General customer service questions\n",
            "\n",
            "    Args:\n",
            "        query: The customer's question or search terms\n",
            "        category: Type of information needed. Options:\n",
            "                 - \"product\": Product features, specifications, warranties\n",
            "                 - \"shipping\": Delivery times, shipping costs, tracking\n",
            "                 - \"return\": Return policies, refund process, exchanges\n",
            "                 - \"payment\": Payment methods, security, billing\n",
            "                 - \"general\": Other questions\n",
            "\n",
            "    Returns:\n",
            "        Relevant information from the knowledge base\n",
            "  • search_vector_knowledge_base: Advanced vector search across the knowledge base with similarity scoring.\n",
            "\n",
            "    Use this tool for complex queries that need:\n",
            "    - Semantic similarity matching (finds conceptually related content)\n",
            "    - Filtering by relevance scores\n",
            "    - Multi-category search\n",
            "    - More comprehensive results than basic search\n",
            "\n",
            "    This is more powerful than search_knowledge_base for:\n",
            "    - Complex customer questions requiring multiple information sources\n",
            "    - Finding related information across different policy areas\n",
            "    - When you need to see relevance scores to judge information quality\n",
            "    - Broader searches that might span multiple categories\n",
            "\n",
            "    Args:\n",
            "        query: The customer's question or search terms (uses semantic similarity)\n",
            "        max_results: Maximum number of results to return (1-10, default: 5)\n",
            "        min_similarity_score: Minimum similarity score threshold 0.0-1.0 (default: 0.0)\n",
            "                             Higher values = stricter matching. Typical values:\n",
            "                             - 0.0: Return all results (most permissive)\n",
            "                             - 0.3: Somewhat related content\n",
            "                             - 0.5: Moderately related content\n",
            "                             - 0.7: Highly related content (strictest)\n",
            "        categories: Comma-separated list of categories to search (optional).\n",
            "                   Valid categories: product, shipping, return, payment, general\n",
            "                   Example: \"return,payment\" searches only those categories\n",
            "                   Leave empty to search all categories\n",
            "\n",
            "    Returns:\n",
            "        Formatted search results with similarity scores and source categories\n",
            "  • get_order_status: Look up the current status and tracking information for a customer's order.\n",
            "\n",
            "    Use this tool when customers ask about:\n",
            "    - Where is my order?\n",
            "    - When will my order arrive?\n",
            "    - Has my order shipped?\n",
            "    - Order tracking information\n",
            "\n",
            "    Args:\n",
            "        order_id: The order number (typically 6+ digits, may include letters)\n",
            "\n",
            "    Returns:\n",
            "        Current order status, expected delivery date, and tracking information\n",
            "  • initiate_return: Start the return process for a customer's order.\n",
            "\n",
            "    Use this tool when customers want to:\n",
            "    - Return an item\n",
            "    - Get a refund\n",
            "    - Exchange a product\n",
            "    - Report a defective item\n",
            "\n",
            "    Args:\n",
            "        order_id: The order number to return\n",
            "        reason: Why the customer wants to return. Common reasons:\n",
            "                - \"defective\": Item is broken or not working properly\n",
            "                - \"wrong_item\": Received incorrect item\n",
            "                - \"changed_mind\": Customer no longer wants the item\n",
            "                - \"not_as_described\": Item doesn't match description\n",
            "                - \"damaged\": Item arrived damaged\n",
            "\n",
            "    Returns:\n",
            "        Return authorization details and next steps\n",
            "  • check_product_availability: Check if a product is currently in stock and available for purchase.\n",
            "\n",
            "    Use this tool when customers ask:\n",
            "    - Is [product] in stock?\n",
            "    - Do you have [product] available?\n",
            "    - When will [product] be back in stock?\n",
            "    - Can I order [product] now?\n",
            "\n",
            "    Args:\n",
            "        product_name: Name or description of the product to check\n",
            "\n",
            "    Returns:\n",
            "        Stock status and availability information\n",
            "  • escalate_to_human: Escalate the conversation to a human support agent.\n",
            "\n",
            "    Use this tool when:\n",
            "    - Customer is frustrated, angry, or dissatisfied\n",
            "    - Issue is too complex for automated handling\n",
            "    - Customer explicitly requests to speak with a human\n",
            "    - You cannot find information needed to help\n",
            "    - Issue requires manual intervention or special exceptions\n",
            "    - Customer has been asking the same question multiple times\n",
            "\n",
            "    Args:\n",
            "        reason: Why escalation is needed (e.g., \"customer_frustrated\", \"complex_issue\", \n",
            "                \"requires_manual_review\", \"explicit_request\")\n",
            "        customer_message: The most recent customer message that triggered escalation\n",
            "\n",
            "    Returns:\n",
            "        Escalation confirmation and next steps for the customer\n"
          ]
        }
      ],
      "source": [
        "# Print graph structure information\n",
        "print(\"📊 Graph Information:\")\n",
        "print(\"=\" * 30)\n",
        "\n",
        "graph_structure = graph.get_graph()\n",
        "print(f\"Nodes: {list(graph_structure.nodes.keys())}\")\n",
        "print(f\"Edges: {len(graph_structure.edges)}\")\n",
        "\n",
        "print(\"\\n🔧 Available Tools:\")\n",
        "for tool in tools:\n",
        "    print(f\"  • {tool.name}: {tool.description}\")\n"
      ]
    },
    {
      "cell_type": "markdown",
      "metadata": {},
      "source": [
        "## Visual Graph Representation\n"
      ]
    },
    {
      "cell_type": "code",
      "execution_count": 3,
      "metadata": {},
      "outputs": [
        {
          "name": "stdout",
          "output_type": "stream",
          "text": [
            "🎨 Generating graph visualization...\n"
          ]
        },
        {
          "data": {
            "image/png": "[encoded data removed]",
            "text/plain": [
              "<IPython.core.display.Image object>"
            ]
          },
          "metadata": {},
          "output_type": "display_data"
        },
        {
          "name": "stdout",
          "output_type": "stream",
          "text": [
            "✅ Graph visualization displayed above!\n"
          ]
        }
      ],
      "source": [
        "# Generate and display the graph visualization\n",
        "from IPython.display import Image, display\n",
        "\n",
        "try:\n",
        "    print(\"🎨 Generating graph visualization...\")\n",
        "    display(Image(graph.get_graph(xray=True).draw_mermaid_png()))\n",
        "    print(\"✅ Graph visualization displayed above!\")\n",
        "    \n",
        "except Exception as e:\n",
        "    print(f\"❌ Error generating visualization: {e}\")\n",
        "    print(\"\\n🔧 This requires some extra dependencies:\")\n",
        "    print(\"  pip install ipython pillow\")\n",
        "    print(\"  pip install 'langgraph[visualization]'\")\n",
        "    \n",
        "    # Fallback: Show text representation\n",
        "    print(\"\\n📋 Graph Structure (Text):\")\n",
        "    print(\"\"\"\n",
        "    START\n",
        "      ↓\n",
        "   [AGENT] ← Reasoning step: decide to call tools or answer\n",
        "      ↓\n",
        "   {should_continue?}\n",
        "     ↙        ↘\n",
        " [TOOLS]    [END]\n",
        "    ↓\n",
        " [AGENT] ← Loop back with tool results\n",
        "    \"\"\")\n"
      ]
    }
  ],
  "metadata": {
    "kernelspec": {
      "display_name": ".venv",
      "language": "python",
      "name": "python3"
    },
    "language_info": {
      "codemirror_mode": {
        "name": "ipython",
        "version": 3
      },
      "file_extension": ".py",
      "mimetype": "text/x-python",
      "name": "python",
      "nbconvert_exporter": "python",
      "pygments_lexer": "ipython3",
      "version": "3.12.12"
    }
  },
  "nbformat": 4,
  "nbformat_minor": 2
}
